{
 "cells": [
  {
   "cell_type": "markdown",
   "id": "cc24e8fe-6b18-49b5-8955-3f9eee4533ba",
   "metadata": {},
   "source": [
    "## Class demonstration\n"
   ]
  },
  {
   "cell_type": "code",
   "execution_count": null,
   "id": "eb3ae375-1276-4309-a41c-d639a7ac1966",
   "metadata": {},
   "outputs": [],
   "source": [
    "import xarray as xr\n",
    "import numpy as np\n",
    "import hvplot.xarray\n",
    "import matplotlib.pyplot as plt\n",
    "import matplotlib.cm as cm\n",
    "import matplotlib\n",
    "%matplotlib inline\n",
    "import xroms\n",
    "import cmocean.cm as cmo\n",
    "import xcmocean\n"
   ]
  },
  {
   "cell_type": "code",
   "execution_count": 2,
   "id": "051b972a-75ea-46bf-8b34-b9681c0f3945",
   "metadata": {},
   "outputs": [],
   "source": [
    "import numpy as np\n",
    "import numpy.linalg as linalg"
   ]
  },
  {
   "cell_type": "code",
   "execution_count": 3,
   "id": "10ccabb8-cd82-4c8c-83ff-5b7799a9637a",
   "metadata": {},
   "outputs": [],
   "source": [
    "a = np.random.rand(5,3)\n",
    "b = np.random.rand(3,4)"
   ]
  },
  {
   "cell_type": "markdown",
   "id": "575e3e8c-4649-48d3-a4dd-7133532ed98b",
   "metadata": {},
   "source": [
    "## Transpose property "
   ]
  },
  {
   "cell_type": "code",
   "execution_count": null,
   "id": "22f0ddc9-19d1-474a-bf3d-00ba76973946",
   "metadata": {},
   "outputs": [],
   "source": []
  },
  {
   "cell_type": "markdown",
   "id": "c08a4966-098b-41f9-bdad-69813b1a15c1",
   "metadata": {},
   "source": [
    "## make"
   ]
  },
  {
   "cell_type": "code",
   "execution_count": null,
   "id": "80cd48a2-48b4-4f13-b282-62244b3c392a",
   "metadata": {},
   "outputs": [],
   "source": []
  },
  {
   "cell_type": "markdown",
   "id": "2b88b297-f2f5-4ef8-a248-64f5d46d4226",
   "metadata": {},
   "source": [
    "## Calculate the covariance matrix C = D'D"
   ]
  },
  {
   "cell_type": "markdown",
   "id": "8f11c131-c0a4-4d83-b04a-d671938e2c92",
   "metadata": {},
   "source": [
    "### Compute a eigen vector of a matrix"
   ]
  },
  {
   "cell_type": "code",
   "execution_count": null,
   "id": "1b52be39-f49a-4f3f-9817-0b1be6f65aa2",
   "metadata": {},
   "outputs": [],
   "source": []
  },
  {
   "cell_type": "code",
   "execution_count": null,
   "id": "d08bc5e9-0924-4a67-99b5-8105ccd7c544",
   "metadata": {},
   "outputs": [],
   "source": []
  },
  {
   "cell_type": "markdown",
   "id": "e3420003-2a35-4c1d-8008-460cadd2fdd0",
   "metadata": {},
   "source": [
    "## Projecting a vector onto an orthogonal basis set"
   ]
  },
  {
   "cell_type": "code",
   "execution_count": null,
   "id": "fca638e2-7060-4e3d-8a41-7a2b758dd5dc",
   "metadata": {},
   "outputs": [],
   "source": []
  },
  {
   "cell_type": "code",
   "execution_count": null,
   "id": "5c6844b9-666c-4fa4-bab3-c5089d82d267",
   "metadata": {},
   "outputs": [],
   "source": []
  },
  {
   "cell_type": "code",
   "execution_count": null,
   "id": "70a8cf41-3d90-42f6-9955-32442b7c5bed",
   "metadata": {},
   "outputs": [],
   "source": []
  },
  {
   "cell_type": "markdown",
   "id": "7f195405-41ff-4339-9cad-fccbacc07e71",
   "metadata": {},
   "source": [
    "## "
   ]
  }
 ],
 "metadata": {
  "kernelspec": {
   "display_name": "Python 3 (ipykernel)",
   "language": "python",
   "name": "python3"
  },
  "language_info": {
   "codemirror_mode": {
    "name": "ipython",
    "version": 3
   },
   "file_extension": ".py",
   "mimetype": "text/x-python",
   "name": "python",
   "nbconvert_exporter": "python",
   "pygments_lexer": "ipython3",
   "version": "3.9.13"
  }
 },
 "nbformat": 4,
 "nbformat_minor": 5
}
